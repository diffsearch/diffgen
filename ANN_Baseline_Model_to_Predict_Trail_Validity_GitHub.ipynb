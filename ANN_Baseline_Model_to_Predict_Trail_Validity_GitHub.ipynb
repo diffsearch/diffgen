{
  "cells": [
    {
      "cell_type": "markdown",
      "metadata": {
        "id": "view-in-github",
        "colab_type": "text"
      },
    },
    {
      "cell_type": "code",
      "execution_count": 1,
      "metadata": {
        "id": "vwSw8INOSUty"
      },
      "outputs": [],
      "source": [
        "import pandas\n",
        "from keras.models import Sequential\n",
        "from keras.layers import Dense\n",
        "from keras.wrappers.scikit_learn import KerasClassifier\n",
        "from sklearn.model_selection import cross_val_score\n",
        "from sklearn.preprocessing import LabelEncoder\n",
        "from sklearn.model_selection import StratifiedKFold\n",
        "from sklearn.preprocessing import StandardScaler\n",
        "from sklearn.pipeline import Pipeline"
      ]
    },
    {
      "cell_type": "code",
      "execution_count": 2,
      "metadata": {
        "id": "xoEVS6pnS8aP"
      },
      "outputs": [],
      "source": [
        "import pandas as pd\n",
        "from matplotlib import pyplot as plt"
      ]
    },
    {
      "cell_type": "code",
      "execution_count": 3,
      "metadata": {
        "colab": {
          "base_uri": "https://localhost:8080/"
        },
        "id": "xQZYNEqJZsB-",
        "outputId": "4ee4deb0-46f3-4436-f08b-5ab32f4bfed6"
      },
      "outputs": [
        {
          "output_type": "stream",
          "name": "stdout",
          "text": [
            "  Preparing metadata (setup.py) ... \u001b[?25l\u001b[?25hdone\n"
          ]
        }
      ],
      "source": [
        "# Use seaborn for pairplot\n",
        "!pip install -q seaborn\n",
        "\n",
        "# Use some functions from tensorflow_docs\n",
        "!pip install -q git+https://github.com/tensorflow/docs"
      ]
    },
    {
      "cell_type": "code",
      "execution_count": 4,
      "metadata": {
        "id": "bYEvwS2_ZmUu"
      },
      "outputs": [],
      "source": [
        "import tensorflow_docs as tfdocs\n",
        "import tensorflow_docs.plots\n",
        "import tensorflow_docs.modeling"
      ]
    },
    {
      "cell_type": "code",
      "execution_count": 5,
      "metadata": {
        "colab": {
          "base_uri": "https://localhost:8080/"
        },
        "id": "e8cTfgs4cFAu",
        "outputId": "e4008c03-78bd-40d9-fc78-19c4f6a1af91"
      },
      "outputs": [
        {
          "output_type": "stream",
          "name": "stdout",
          "text": [
            "2.12.0\n"
          ]
        }
      ],
      "source": [
        "import tensorflow as tf\n",
        "\n",
        "from tensorflow import keras\n",
        "from tensorflow.keras import layers\n",
        "import numpy as np\n",
        "\n",
        "print(tf.__version__)"
      ]
    },
    {
      "cell_type": "code",
      "source": [
        "!wget -O all_dataset_path.csv \"https://drive.google.com/uc?export=download&id=1vG2C0PM3MXz7p_v5zMSjvodRsK6hbrnz\""
      ],
      "metadata": {
        "colab": {
          "base_uri": "https://localhost:8080/"
        },
        "id": "8x0tDLPEKmX_",
        "outputId": "104be863-58bd-46f6-b209-62a2d43d54b6"
      },
      "execution_count": 6,
      "outputs": [
        {
          "output_type": "stream",
          "name": "stdout",
          "text": [
            "--2023-07-11 09:09:51--  https://drive.google.com/uc?export=download&id=1vG2C0PM3MXz7p_v5zMSjvodRsK6hbrnz\n",
            "Resolving drive.google.com (drive.google.com)... 209.85.147.102, 209.85.147.139, 209.85.147.100, ...\n",
            "Connecting to drive.google.com (drive.google.com)|209.85.147.102|:443... connected.\n",
            "HTTP request sent, awaiting response... 303 See Other\n",
            "Location: https://doc-08-54-docs.googleusercontent.com/docs/securesc/ha0ro937gcuc7l7deffksulhg5h7mbp1/nqkqvd26fh5rvnjilq6d1dc3rfpfvf1e/1689066525000/14347683118445347781/*/1vG2C0PM3MXz7p_v5zMSjvodRsK6hbrnz?e=download&uuid=b5957833-d358-405d-81d9-e196299141d7 [following]\n",
            "Warning: wildcards not supported in HTTP.\n",
            "--2023-07-11 09:09:52--  https://doc-08-54-docs.googleusercontent.com/docs/securesc/ha0ro937gcuc7l7deffksulhg5h7mbp1/nqkqvd26fh5rvnjilq6d1dc3rfpfvf1e/1689066525000/14347683118445347781/*/1vG2C0PM3MXz7p_v5zMSjvodRsK6hbrnz?e=download&uuid=b5957833-d358-405d-81d9-e196299141d7\n",
            "Resolving doc-08-54-docs.googleusercontent.com (doc-08-54-docs.googleusercontent.com)... 173.194.193.132, 2607:f8b0:4001:c0f::84\n",
            "Connecting to doc-08-54-docs.googleusercontent.com (doc-08-54-docs.googleusercontent.com)|173.194.193.132|:443... connected.\n",
            "HTTP request sent, awaiting response... 200 OK\n",
            "Length: 2547566 (2.4M) [text/csv]\n",
            "Saving to: ‘all_dataset_path.csv’\n",
            "\n",
            "all_dataset_path.cs 100%[===================>]   2.43M  --.-KB/s    in 0.03s   \n",
            "\n",
            "2023-07-11 09:09:52 (91.0 MB/s) - ‘all_dataset_path.csv’ saved [2547566/2547566]\n",
            "\n"
          ]
        }
      ]
    },
    {
      "cell_type": "code",
      "execution_count": 7,
      "metadata": {
        "id": "BTlEKxmZcKV7"
      },
      "outputs": [],
      "source": [
        "all_dataset = pd.read_csv ('all_dataset_path.csv')"
      ]
    },
    {
      "cell_type": "code",
      "source": [
        "all_dataset"
      ],
      "metadata": {
        "colab": {
          "base_uri": "https://localhost:8080/",
          "height": 424
        },
        "id": "XGfcOhT5JnJb",
        "outputId": "3a1747cc-6d9e-43b9-c9c9-e777b2fe2f73"
      },
      "execution_count": 8,
      "outputs": [
        {
          "output_type": "execute_result",
          "data": {
            "text/plain": [
              "       input16  input15  input14  input13  input12  input11  input10  input9  \\\n",
              "0            1        1        1        1        1        1        1       1   \n",
              "1            1        0        1        1        1        1        1       1   \n",
              "2            1        1        1        1        1        1        1       1   \n",
              "3            1        1        1        1        1        1        0       1   \n",
              "4            1        1        0        1        1        1        1       1   \n",
              "...        ...      ...      ...      ...      ...      ...      ...     ...   \n",
              "11995        1        1        1        1        1        1        1       1   \n",
              "11996        1        1        1        1        1        1        1       1   \n",
              "11997        1        1        1        1        1        1        1       1   \n",
              "11998        1        1        1        1        1        1        1       1   \n",
              "11999        1        1        1        1        1        1        1       1   \n",
              "\n",
              "       input8  input7  ...     perm7     perm8     perm9  perm10    perm11  \\\n",
              "0           1       1  ...  0.200000  0.533333  0.866667     0.4  0.600000   \n",
              "1           1       1  ...  0.200000  0.533333  0.866667     0.4  0.600000   \n",
              "2           1       1  ...  0.200000  0.533333  0.866667     0.4  0.600000   \n",
              "3           1       1  ...  0.200000  0.533333  0.866667     0.4  0.600000   \n",
              "4           1       1  ...  0.200000  0.533333  0.866667     0.4  0.600000   \n",
              "...       ...     ...  ...       ...       ...       ...     ...       ...   \n",
              "11995       1       0  ...  0.466667  0.533333  1.000000     0.8  0.333333   \n",
              "11996       1       0  ...  0.466667  0.533333  1.000000     0.8  0.333333   \n",
              "11997       1       1  ...  0.466667  0.533333  1.000000     0.8  0.333333   \n",
              "11998       1       1  ...  0.466667  0.533333  1.000000     0.8  0.333333   \n",
              "11999       0       1  ...  0.466667  0.533333  1.000000     0.8  0.333333   \n",
              "\n",
              "         perm12  perm13    perm14    perm15    perm16  \n",
              "0      0.133333     1.0  0.666667  0.733333  0.933333  \n",
              "1      0.133333     1.0  0.666667  0.733333  0.933333  \n",
              "2      0.133333     1.0  0.666667  0.733333  0.933333  \n",
              "3      0.133333     1.0  0.666667  0.733333  0.933333  \n",
              "4      0.133333     1.0  0.666667  0.733333  0.933333  \n",
              "...         ...     ...       ...       ...       ...  \n",
              "11995  0.933333     0.6  0.000000  0.866667  0.666667  \n",
              "11996  0.933333     0.6  0.000000  0.866667  0.666667  \n",
              "11997  0.933333     0.6  0.000000  0.866667  0.666667  \n",
              "11998  0.933333     0.6  0.000000  0.866667  0.666667  \n",
              "11999  0.933333     0.6  0.000000  0.866667  0.666667  \n",
              "\n",
              "[12000 rows x 51 columns]"
            ],
            "text/html": [
              "\n",
              "\n",
              "  <div id=\"df-64a7ad3f-46b6-4986-8039-dd1f04d6c45b\">\n",
              "    <div class=\"colab-df-container\">\n",
              "      <div>\n",
              "<style scoped>\n",
              "    .dataframe tbody tr th:only-of-type {\n",
              "        vertical-align: middle;\n",
              "    }\n",
              "\n",
              "    .dataframe tbody tr th {\n",
              "        vertical-align: top;\n",
              "    }\n",
              "\n",
              "    .dataframe thead th {\n",
              "        text-align: right;\n",
              "    }\n",
              "</style>\n",
              "<table border=\"1\" class=\"dataframe\">\n",
              "  <thead>\n",
              "    <tr style=\"text-align: right;\">\n",
              "      <th></th>\n",
              "      <th>input16</th>\n",
              "      <th>input15</th>\n",
              "      <th>input14</th>\n",
              "      <th>input13</th>\n",
              "      <th>input12</th>\n",
              "      <th>input11</th>\n",
              "      <th>input10</th>\n",
              "      <th>input9</th>\n",
              "      <th>input8</th>\n",
              "      <th>input7</th>\n",
              "      <th>...</th>\n",
              "      <th>perm7</th>\n",
              "      <th>perm8</th>\n",
              "      <th>perm9</th>\n",
              "      <th>perm10</th>\n",
              "      <th>perm11</th>\n",
              "      <th>perm12</th>\n",
              "      <th>perm13</th>\n",
              "      <th>perm14</th>\n",
              "      <th>perm15</th>\n",
              "      <th>perm16</th>\n",
              "    </tr>\n",
              "  </thead>\n",
              "  <tbody>\n",
              "    <tr>\n",
              "      <th>0</th>\n",
              "      <td>1</td>\n",
              "      <td>1</td>\n",
              "      <td>1</td>\n",
              "      <td>1</td>\n",
              "      <td>1</td>\n",
              "      <td>1</td>\n",
              "      <td>1</td>\n",
              "      <td>1</td>\n",
              "      <td>1</td>\n",
              "      <td>1</td>\n",
              "      <td>...</td>\n",
              "      <td>0.200000</td>\n",
              "      <td>0.533333</td>\n",
              "      <td>0.866667</td>\n",
              "      <td>0.4</td>\n",
              "      <td>0.600000</td>\n",
              "      <td>0.133333</td>\n",
              "      <td>1.0</td>\n",
              "      <td>0.666667</td>\n",
              "      <td>0.733333</td>\n",
              "      <td>0.933333</td>\n",
              "    </tr>\n",
              "    <tr>\n",
              "      <th>1</th>\n",
              "      <td>1</td>\n",
              "      <td>0</td>\n",
              "      <td>1</td>\n",
              "      <td>1</td>\n",
              "      <td>1</td>\n",
              "      <td>1</td>\n",
              "      <td>1</td>\n",
              "      <td>1</td>\n",
              "      <td>1</td>\n",
              "      <td>1</td>\n",
              "      <td>...</td>\n",
              "      <td>0.200000</td>\n",
              "      <td>0.533333</td>\n",
              "      <td>0.866667</td>\n",
              "      <td>0.4</td>\n",
              "      <td>0.600000</td>\n",
              "      <td>0.133333</td>\n",
              "      <td>1.0</td>\n",
              "      <td>0.666667</td>\n",
              "      <td>0.733333</td>\n",
              "      <td>0.933333</td>\n",
              "    </tr>\n",
              "    <tr>\n",
              "      <th>2</th>\n",
              "      <td>1</td>\n",
              "      <td>1</td>\n",
              "      <td>1</td>\n",
              "      <td>1</td>\n",
              "      <td>1</td>\n",
              "      <td>1</td>\n",
              "      <td>1</td>\n",
              "      <td>1</td>\n",
              "      <td>1</td>\n",
              "      <td>1</td>\n",
              "      <td>...</td>\n",
              "      <td>0.200000</td>\n",
              "      <td>0.533333</td>\n",
              "      <td>0.866667</td>\n",
              "      <td>0.4</td>\n",
              "      <td>0.600000</td>\n",
              "      <td>0.133333</td>\n",
              "      <td>1.0</td>\n",
              "      <td>0.666667</td>\n",
              "      <td>0.733333</td>\n",
              "      <td>0.933333</td>\n",
              "    </tr>\n",
              "    <tr>\n",
              "      <th>3</th>\n",
              "      <td>1</td>\n",
              "      <td>1</td>\n",
              "      <td>1</td>\n",
              "      <td>1</td>\n",
              "      <td>1</td>\n",
              "      <td>1</td>\n",
              "      <td>0</td>\n",
              "      <td>1</td>\n",
              "      <td>1</td>\n",
              "      <td>1</td>\n",
              "      <td>...</td>\n",
              "      <td>0.200000</td>\n",
              "      <td>0.533333</td>\n",
              "      <td>0.866667</td>\n",
              "      <td>0.4</td>\n",
              "      <td>0.600000</td>\n",
              "      <td>0.133333</td>\n",
              "      <td>1.0</td>\n",
              "      <td>0.666667</td>\n",
              "      <td>0.733333</td>\n",
              "      <td>0.933333</td>\n",
              "    </tr>\n",
              "    <tr>\n",
              "      <th>4</th>\n",
              "      <td>1</td>\n",
              "      <td>1</td>\n",
              "      <td>0</td>\n",
              "      <td>1</td>\n",
              "      <td>1</td>\n",
              "      <td>1</td>\n",
              "      <td>1</td>\n",
              "      <td>1</td>\n",
              "      <td>1</td>\n",
              "      <td>1</td>\n",
              "      <td>...</td>\n",
              "      <td>0.200000</td>\n",
              "      <td>0.533333</td>\n",
              "      <td>0.866667</td>\n",
              "      <td>0.4</td>\n",
              "      <td>0.600000</td>\n",
              "      <td>0.133333</td>\n",
              "      <td>1.0</td>\n",
              "      <td>0.666667</td>\n",
              "      <td>0.733333</td>\n",
              "      <td>0.933333</td>\n",
              "    </tr>\n",
              "    <tr>\n",
              "      <th>...</th>\n",
              "      <td>...</td>\n",
              "      <td>...</td>\n",
              "      <td>...</td>\n",
              "      <td>...</td>\n",
              "      <td>...</td>\n",
              "      <td>...</td>\n",
              "      <td>...</td>\n",
              "      <td>...</td>\n",
              "      <td>...</td>\n",
              "      <td>...</td>\n",
              "      <td>...</td>\n",
              "      <td>...</td>\n",
              "      <td>...</td>\n",
              "      <td>...</td>\n",
              "      <td>...</td>\n",
              "      <td>...</td>\n",
              "      <td>...</td>\n",
              "      <td>...</td>\n",
              "      <td>...</td>\n",
              "      <td>...</td>\n",
              "      <td>...</td>\n",
              "    </tr>\n",
              "    <tr>\n",
              "      <th>11995</th>\n",
              "      <td>1</td>\n",
              "      <td>1</td>\n",
              "      <td>1</td>\n",
              "      <td>1</td>\n",
              "      <td>1</td>\n",
              "      <td>1</td>\n",
              "      <td>1</td>\n",
              "      <td>1</td>\n",
              "      <td>1</td>\n",
              "      <td>0</td>\n",
              "      <td>...</td>\n",
              "      <td>0.466667</td>\n",
              "      <td>0.533333</td>\n",
              "      <td>1.000000</td>\n",
              "      <td>0.8</td>\n",
              "      <td>0.333333</td>\n",
              "      <td>0.933333</td>\n",
              "      <td>0.6</td>\n",
              "      <td>0.000000</td>\n",
              "      <td>0.866667</td>\n",
              "      <td>0.666667</td>\n",
              "    </tr>\n",
              "    <tr>\n",
              "      <th>11996</th>\n",
              "      <td>1</td>\n",
              "      <td>1</td>\n",
              "      <td>1</td>\n",
              "      <td>1</td>\n",
              "      <td>1</td>\n",
              "      <td>1</td>\n",
              "      <td>1</td>\n",
              "      <td>1</td>\n",
              "      <td>1</td>\n",
              "      <td>0</td>\n",
              "      <td>...</td>\n",
              "      <td>0.466667</td>\n",
              "      <td>0.533333</td>\n",
              "      <td>1.000000</td>\n",
              "      <td>0.8</td>\n",
              "      <td>0.333333</td>\n",
              "      <td>0.933333</td>\n",
              "      <td>0.6</td>\n",
              "      <td>0.000000</td>\n",
              "      <td>0.866667</td>\n",
              "      <td>0.666667</td>\n",
              "    </tr>\n",
              "    <tr>\n",
              "      <th>11997</th>\n",
              "      <td>1</td>\n",
              "      <td>1</td>\n",
              "      <td>1</td>\n",
              "      <td>1</td>\n",
              "      <td>1</td>\n",
              "      <td>1</td>\n",
              "      <td>1</td>\n",
              "      <td>1</td>\n",
              "      <td>1</td>\n",
              "      <td>1</td>\n",
              "      <td>...</td>\n",
              "      <td>0.466667</td>\n",
              "      <td>0.533333</td>\n",
              "      <td>1.000000</td>\n",
              "      <td>0.8</td>\n",
              "      <td>0.333333</td>\n",
              "      <td>0.933333</td>\n",
              "      <td>0.6</td>\n",
              "      <td>0.000000</td>\n",
              "      <td>0.866667</td>\n",
              "      <td>0.666667</td>\n",
              "    </tr>\n",
              "    <tr>\n",
              "      <th>11998</th>\n",
              "      <td>1</td>\n",
              "      <td>1</td>\n",
              "      <td>1</td>\n",
              "      <td>1</td>\n",
              "      <td>1</td>\n",
              "      <td>1</td>\n",
              "      <td>1</td>\n",
              "      <td>1</td>\n",
              "      <td>1</td>\n",
              "      <td>1</td>\n",
              "      <td>...</td>\n",
              "      <td>0.466667</td>\n",
              "      <td>0.533333</td>\n",
              "      <td>1.000000</td>\n",
              "      <td>0.8</td>\n",
              "      <td>0.333333</td>\n",
              "      <td>0.933333</td>\n",
              "      <td>0.6</td>\n",
              "      <td>0.000000</td>\n",
              "      <td>0.866667</td>\n",
              "      <td>0.666667</td>\n",
              "    </tr>\n",
              "    <tr>\n",
              "      <th>11999</th>\n",
              "      <td>1</td>\n",
              "      <td>1</td>\n",
              "      <td>1</td>\n",
              "      <td>1</td>\n",
              "      <td>1</td>\n",
              "      <td>1</td>\n",
              "      <td>1</td>\n",
              "      <td>1</td>\n",
              "      <td>0</td>\n",
              "      <td>1</td>\n",
              "      <td>...</td>\n",
              "      <td>0.466667</td>\n",
              "      <td>0.533333</td>\n",
              "      <td>1.000000</td>\n",
              "      <td>0.8</td>\n",
              "      <td>0.333333</td>\n",
              "      <td>0.933333</td>\n",
              "      <td>0.6</td>\n",
              "      <td>0.000000</td>\n",
              "      <td>0.866667</td>\n",
              "      <td>0.666667</td>\n",
              "    </tr>\n",
              "  </tbody>\n",
              "</table>\n",
              "<p>12000 rows × 51 columns</p>\n",
              "</div>\n",
              "      <button class=\"colab-df-convert\" onclick=\"convertToInteractive('df-64a7ad3f-46b6-4986-8039-dd1f04d6c45b')\"\n",
              "              title=\"Convert this dataframe to an interactive table.\"\n",
              "              style=\"display:none;\">\n",
              "\n",
              "  <svg xmlns=\"http://www.w3.org/2000/svg\" height=\"24px\"viewBox=\"0 0 24 24\"\n",
              "       width=\"24px\">\n",
              "    <path d=\"M0 0h24v24H0V0z\" fill=\"none\"/>\n",
              "    <path d=\"M18.56 5.44l.94 2.06.94-2.06 2.06-.94-2.06-.94-.94-2.06-.94 2.06-2.06.94zm-11 1L8.5 8.5l.94-2.06 2.06-.94-2.06-.94L8.5 2.5l-.94 2.06-2.06.94zm10 10l.94 2.06.94-2.06 2.06-.94-2.06-.94-.94-2.06-.94 2.06-2.06.94z\"/><path d=\"M17.41 7.96l-1.37-1.37c-.4-.4-.92-.59-1.43-.59-.52 0-1.04.2-1.43.59L10.3 9.45l-7.72 7.72c-.78.78-.78 2.05 0 2.83L4 21.41c.39.39.9.59 1.41.59.51 0 1.02-.2 1.41-.59l7.78-7.78 2.81-2.81c.8-.78.8-2.07 0-2.86zM5.41 20L4 18.59l7.72-7.72 1.47 1.35L5.41 20z\"/>\n",
              "  </svg>\n",
              "      </button>\n",
              "\n",
              "\n",
              "\n",
              "    <div id=\"df-9fa8d176-95e1-41c4-8caa-c34cee45b58a\">\n",
              "      <button class=\"colab-df-quickchart\" onclick=\"quickchart('df-9fa8d176-95e1-41c4-8caa-c34cee45b58a')\"\n",
              "              title=\"Suggest charts.\"\n",
              "              style=\"display:none;\">\n",
              "\n",
              "<svg xmlns=\"http://www.w3.org/2000/svg\" height=\"24px\"viewBox=\"0 0 24 24\"\n",
              "     width=\"24px\">\n",
              "    <g>\n",
              "        <path d=\"M19 3H5c-1.1 0-2 .9-2 2v14c0 1.1.9 2 2 2h14c1.1 0 2-.9 2-2V5c0-1.1-.9-2-2-2zM9 17H7v-7h2v7zm4 0h-2V7h2v10zm4 0h-2v-4h2v4z\"/>\n",
              "    </g>\n",
              "</svg>\n",
              "      </button>\n",
              "    </div>\n",
              "\n",
              "<style>\n",
              "  .colab-df-quickchart {\n",
              "    background-color: #E8F0FE;\n",
              "    border: none;\n",
              "    border-radius: 50%;\n",
              "    cursor: pointer;\n",
              "    display: none;\n",
              "    fill: #1967D2;\n",
              "    height: 32px;\n",
              "    padding: 0 0 0 0;\n",
              "    width: 32px;\n",
              "  }\n",
              "\n",
              "  .colab-df-quickchart:hover {\n",
              "    background-color: #E2EBFA;\n",
              "    box-shadow: 0px 1px 2px rgba(60, 64, 67, 0.3), 0px 1px 3px 1px rgba(60, 64, 67, 0.15);\n",
              "    fill: #174EA6;\n",
              "  }\n",
              "\n",
              "  [theme=dark] .colab-df-quickchart {\n",
              "    background-color: #3B4455;\n",
              "    fill: #D2E3FC;\n",
              "  }\n",
              "\n",
              "  [theme=dark] .colab-df-quickchart:hover {\n",
              "    background-color: #434B5C;\n",
              "    box-shadow: 0px 1px 3px 1px rgba(0, 0, 0, 0.15);\n",
              "    filter: drop-shadow(0px 1px 2px rgba(0, 0, 0, 0.3));\n",
              "    fill: #FFFFFF;\n",
              "  }\n",
              "</style>\n",
              "\n",
              "    <script>\n",
              "      async function quickchart(key) {\n",
              "        const containerElement = document.querySelector('#' + key);\n",
              "        const charts = await google.colab.kernel.invokeFunction(\n",
              "            'suggestCharts', [key], {});\n",
              "      }\n",
              "    </script>\n",
              "\n",
              "      <script>\n",
              "\n",
              "function displayQuickchartButton(domScope) {\n",
              "  let quickchartButtonEl =\n",
              "    domScope.querySelector('#df-9fa8d176-95e1-41c4-8caa-c34cee45b58a button.colab-df-quickchart');\n",
              "  quickchartButtonEl.style.display =\n",
              "    google.colab.kernel.accessAllowed ? 'block' : 'none';\n",
              "}\n",
              "\n",
              "        displayQuickchartButton(document);\n",
              "      </script>\n",
              "      <style>\n",
              "    .colab-df-container {\n",
              "      display:flex;\n",
              "      flex-wrap:wrap;\n",
              "      gap: 12px;\n",
              "    }\n",
              "\n",
              "    .colab-df-convert {\n",
              "      background-color: #E8F0FE;\n",
              "      border: none;\n",
              "      border-radius: 50%;\n",
              "      cursor: pointer;\n",
              "      display: none;\n",
              "      fill: #1967D2;\n",
              "      height: 32px;\n",
              "      padding: 0 0 0 0;\n",
              "      width: 32px;\n",
              "    }\n",
              "\n",
              "    .colab-df-convert:hover {\n",
              "      background-color: #E2EBFA;\n",
              "      box-shadow: 0px 1px 2px rgba(60, 64, 67, 0.3), 0px 1px 3px 1px rgba(60, 64, 67, 0.15);\n",
              "      fill: #174EA6;\n",
              "    }\n",
              "\n",
              "    [theme=dark] .colab-df-convert {\n",
              "      background-color: #3B4455;\n",
              "      fill: #D2E3FC;\n",
              "    }\n",
              "\n",
              "    [theme=dark] .colab-df-convert:hover {\n",
              "      background-color: #434B5C;\n",
              "      box-shadow: 0px 1px 3px 1px rgba(0, 0, 0, 0.15);\n",
              "      filter: drop-shadow(0px 1px 2px rgba(0, 0, 0, 0.3));\n",
              "      fill: #FFFFFF;\n",
              "    }\n",
              "  </style>\n",
              "\n",
              "      <script>\n",
              "        const buttonEl =\n",
              "          document.querySelector('#df-64a7ad3f-46b6-4986-8039-dd1f04d6c45b button.colab-df-convert');\n",
              "        buttonEl.style.display =\n",
              "          google.colab.kernel.accessAllowed ? 'block' : 'none';\n",
              "\n",
              "        async function convertToInteractive(key) {\n",
              "          const element = document.querySelector('#df-64a7ad3f-46b6-4986-8039-dd1f04d6c45b');\n",
              "          const dataTable =\n",
              "            await google.colab.kernel.invokeFunction('convertToInteractive',\n",
              "                                                     [key], {});\n",
              "          if (!dataTable) return;\n",
              "\n",
              "          const docLinkHtml = 'Like what you see? Visit the ' +\n",
              "            '<a target=\"_blank\" href=https://colab.research.google.com/notebooks/data_table.ipynb>data table notebook</a>'\n",
              "            + ' to learn more about interactive tables.';\n",
              "          element.innerHTML = '';\n",
              "          dataTable['output_type'] = 'display_data';\n",
              "          await google.colab.output.renderOutput(dataTable, element);\n",
              "          const docLink = document.createElement('div');\n",
              "          docLink.innerHTML = docLinkHtml;\n",
              "          element.appendChild(docLink);\n",
              "        }\n",
              "      </script>\n",
              "    </div>\n",
              "  </div>\n"
            ]
          },
          "metadata": {},
          "execution_count": 8
        }
      ]
    },
    {
      "cell_type": "code",
      "execution_count": 9,
      "metadata": {
        "id": "4dJumq95Uqrn"
      },
      "outputs": [],
      "source": [
        "dataset_before_undersampling = all_dataset.sample(frac=0.80,random_state=0)\n",
        "test_dataset = all_dataset.drop(dataset_before_undersampling.index)"
      ]
    },
    {
      "cell_type": "code",
      "execution_count": 10,
      "metadata": {
        "id": "X8Gvv4CSU2HD"
      },
      "outputs": [],
      "source": [
        "dataset_before_undersampling['sboxes'] = ((dataset_before_undersampling['sboxes']/(dataset_before_undersampling['round']*8)))"
      ]
    },
    {
      "cell_type": "code",
      "execution_count": 11,
      "metadata": {
        "id": "Dada87UmQP9F"
      },
      "outputs": [],
      "source": [
        "test_dataset['sboxes'] = ((test_dataset['sboxes']/(test_dataset['round']*8)))"
      ]
    },
    {
      "cell_type": "code",
      "execution_count": 12,
      "metadata": {
        "id": "mIOVq3G3w9dx"
      },
      "outputs": [],
      "source": [
        "# Class count\n",
        "count_class_0, count_class_1 = dataset_before_undersampling.validity.value_counts()\n",
        "\n",
        "# Divide by class\n",
        "df_class_0 = dataset_before_undersampling[dataset_before_undersampling['validity'] == 0]\n",
        "df_class_1 = dataset_before_undersampling[dataset_before_undersampling['validity'] == 1]"
      ]
    },
    {
      "cell_type": "code",
      "execution_count": 13,
      "metadata": {
        "id": "wtNzZyl-yWrE",
        "colab": {
          "base_uri": "https://localhost:8080/"
        },
        "outputId": "5c2435ef-e563-40d7-c915-4d3aedc2461f"
      },
      "outputs": [
        {
          "output_type": "execute_result",
          "data": {
            "text/plain": [
              "(8741, 51)"
            ]
          },
          "metadata": {},
          "execution_count": 13
        }
      ],
      "source": [
        "df_class_0.shape"
      ]
    },
    {
      "cell_type": "code",
      "execution_count": 14,
      "metadata": {
        "id": "FggsXsDqycjM",
        "colab": {
          "base_uri": "https://localhost:8080/"
        },
        "outputId": "aed3d2b0-8e35-4c44-cdf3-3e143aad27a7"
      },
      "outputs": [
        {
          "output_type": "execute_result",
          "data": {
            "text/plain": [
              "(859, 51)"
            ]
          },
          "metadata": {},
          "execution_count": 14
        }
      ],
      "source": [
        "df_class_1.shape"
      ]
    },
    {
      "cell_type": "code",
      "execution_count": 15,
      "metadata": {
        "id": "x_b6MO7yy9U9",
        "colab": {
          "base_uri": "https://localhost:8080/"
        },
        "outputId": "2db295ea-bcd8-49ef-8ff2-cc1eb76d4ee6"
      },
      "outputs": [
        {
          "output_type": "stream",
          "name": "stdout",
          "text": [
            "Random under-sampling:\n",
            "0    859\n",
            "1    859\n",
            "Name: validity, dtype: int64\n"
          ]
        }
      ],
      "source": [
        "#UnderSampling\n",
        "# Undersample 0-class and concat the DataFrames of both class\n",
        "df_class_0_under = df_class_0.sample(count_class_1)\n",
        "train_dataset = pd.concat([df_class_0_under, df_class_1], axis=0)\n",
        "\n",
        "print('Random under-sampling:')\n",
        "print(train_dataset.validity.value_counts())"
      ]
    },
    {
      "cell_type": "code",
      "execution_count": 16,
      "metadata": {
        "id": "2IWtvp82j9PH"
      },
      "outputs": [],
      "source": [
        "train_labels = train_dataset.pop(\"validity\")\n",
        "test_labels = test_dataset.pop(\"validity\")"
      ]
    },
    {
      "cell_type": "code",
      "execution_count": 17,
      "metadata": {
        "id": "1za9mLhXIA1G"
      },
      "outputs": [],
      "source": [
        "train_dataset['round'] = (train_dataset['round'])/100"
      ]
    },
    {
      "cell_type": "code",
      "execution_count": 18,
      "metadata": {
        "id": "chFFNqf7QvTx"
      },
      "outputs": [],
      "source": [
        "test_dataset['round'] = (test_dataset['round'])/100"
      ]
    },
    {
      "cell_type": "code",
      "execution_count": 19,
      "metadata": {
        "id": "1YbfL-U9blpi"
      },
      "outputs": [],
      "source": [
        "from keras import backend as K\n",
        "from tensorflow.python.framework import ops\n",
        "from tensorflow.python.ops import math_ops\n",
        "def root_mean_squared_error(y_true, y_pred):\n",
        "        y_pred = ops.convert_to_tensor_v2(y_pred)\n",
        "        y_true = math_ops.cast(y_true, y_pred.dtype)\n",
        "        return K.sqrt(K.mean(K.square(y_pred - y_true)))"
      ]
    },
    {
      "cell_type": "code",
      "execution_count": 20,
      "metadata": {
        "id": "T6vwwJyD9RZ4"
      },
      "outputs": [],
      "source": [
        "import tensorflow as tf\n",
        "from tensorflow import keras\n",
        "from sklearn.metrics import confusion_matrix , classification_report"
      ]
    },
    {
      "cell_type": "code",
      "execution_count": 21,
      "metadata": {
        "id": "s2k0D58J9fAf"
      },
      "outputs": [],
      "source": [
        "from keras.layers import Dropout\n",
        "from keras import regularizers\n",
        "from keras.regularizers import l2, l1\n",
        "from keras.callbacks import EarlyStopping\n",
        "from keras.utils import plot_model\n",
        "\n",
        "reg_param=0.001\n",
        "def ANN(X_train, y_train, X_test, y_test, loss, weights):\n",
        "    model = keras.Sequential([\n",
        "        layers.Dense(512, activation='relu' , input_shape=[50]),\n",
        "        layers.Dense(512, activation='relu'),\n",
        "        layers.Dense(512, activation='relu'),\n",
        "        layers.Dense(512, activation='relu'),\n",
        "      layers.Dense(1,activation='sigmoid' )\n",
        "    ])\n",
        "\n",
        "    model.compile(optimizer='adam', loss=loss, metrics=['accuracy'])\n",
        "    early_stop = keras.callbacks.EarlyStopping(monitor='accuracy', patience=10,restore_best_weights=True)\n",
        "    if weights == -1:\n",
        "        model.fit(X_train, y_train, epochs=50, callbacks=[early_stop])\n",
        "    else:\n",
        "        model.fit(X_train, y_train, epochs=100, class_weight = weights)\n",
        "\n",
        "    print(model.evaluate(X_test, y_test))\n",
        "\n",
        "    y_preds = model.predict(X_test)\n",
        "    y_preds = np.round(y_preds)\n",
        "\n",
        "    print(\"Classification Report: \\n\", classification_report(y_test, y_preds))\n",
        "\n",
        "    return model"
      ]
    },
    {
      "cell_type": "code",
      "execution_count": 22,
      "metadata": {
        "id": "sb-Xu13e9pNf",
        "colab": {
          "base_uri": "https://localhost:8080/"
        },
        "outputId": "9e10bcb3-3512-4255-d6d6-754b9f0d1d23"
      },
      "outputs": [
        {
          "output_type": "stream",
          "name": "stdout",
          "text": [
            "Epoch 1/50\n",
            "54/54 [==============================] - 3s 21ms/step - loss: 0.4913 - accuracy: 0.7596\n",
            "Epoch 2/50\n",
            "54/54 [==============================] - 1s 15ms/step - loss: 0.2063 - accuracy: 0.9203\n",
            "Epoch 3/50\n",
            "54/54 [==============================] - 1s 19ms/step - loss: 0.2191 - accuracy: 0.9249\n",
            "Epoch 4/50\n",
            "54/54 [==============================] - 1s 15ms/step - loss: 0.1456 - accuracy: 0.9511\n",
            "Epoch 5/50\n",
            "54/54 [==============================] - 1s 16ms/step - loss: 0.1665 - accuracy: 0.9406\n",
            "Epoch 6/50\n",
            "54/54 [==============================] - 1s 15ms/step - loss: 0.1360 - accuracy: 0.9470\n",
            "Epoch 7/50\n",
            "54/54 [==============================] - 1s 16ms/step - loss: 0.1136 - accuracy: 0.9593\n",
            "Epoch 8/50\n",
            "54/54 [==============================] - 1s 20ms/step - loss: 0.1265 - accuracy: 0.9610\n",
            "Epoch 9/50\n",
            "54/54 [==============================] - 2s 29ms/step - loss: 0.1527 - accuracy: 0.9453\n",
            "Epoch 10/50\n",
            "54/54 [==============================] - 2s 33ms/step - loss: 0.1462 - accuracy: 0.9505\n",
            "Epoch 11/50\n",
            "54/54 [==============================] - 2s 36ms/step - loss: 0.1319 - accuracy: 0.9517\n",
            "Epoch 12/50\n",
            "54/54 [==============================] - 2s 28ms/step - loss: 0.1700 - accuracy: 0.9406\n",
            "Epoch 13/50\n",
            "54/54 [==============================] - 2s 28ms/step - loss: 0.1369 - accuracy: 0.9494\n",
            "Epoch 14/50\n",
            "54/54 [==============================] - 2s 31ms/step - loss: 0.1701 - accuracy: 0.9424\n",
            "Epoch 15/50\n",
            "54/54 [==============================] - 1s 26ms/step - loss: 0.1129 - accuracy: 0.9598\n",
            "Epoch 16/50\n",
            "54/54 [==============================] - 1s 27ms/step - loss: 0.1141 - accuracy: 0.9587\n",
            "Epoch 17/50\n",
            "54/54 [==============================] - 1s 27ms/step - loss: 0.0841 - accuracy: 0.9680\n",
            "Epoch 18/50\n",
            "54/54 [==============================] - 2s 33ms/step - loss: 0.1094 - accuracy: 0.9581\n",
            "Epoch 19/50\n",
            "54/54 [==============================] - 2s 36ms/step - loss: 0.0863 - accuracy: 0.9709\n",
            "Epoch 20/50\n",
            "54/54 [==============================] - 2s 30ms/step - loss: 0.1097 - accuracy: 0.9575\n",
            "Epoch 21/50\n",
            "54/54 [==============================] - 2s 32ms/step - loss: 0.1124 - accuracy: 0.9593\n",
            "Epoch 22/50\n",
            "54/54 [==============================] - 2s 31ms/step - loss: 0.0840 - accuracy: 0.9715\n",
            "Epoch 23/50\n",
            "54/54 [==============================] - 2s 33ms/step - loss: 0.1408 - accuracy: 0.9511\n",
            "Epoch 24/50\n",
            "54/54 [==============================] - 2s 32ms/step - loss: 0.0960 - accuracy: 0.9668\n",
            "Epoch 25/50\n",
            "54/54 [==============================] - 2s 30ms/step - loss: 0.1083 - accuracy: 0.9575\n",
            "Epoch 26/50\n",
            "54/54 [==============================] - 2s 41ms/step - loss: 0.0827 - accuracy: 0.9703\n",
            "Epoch 27/50\n",
            "54/54 [==============================] - 2s 45ms/step - loss: 0.0999 - accuracy: 0.9651\n",
            "Epoch 28/50\n",
            "54/54 [==============================] - 2s 44ms/step - loss: 0.0689 - accuracy: 0.9738\n",
            "Epoch 29/50\n",
            "54/54 [==============================] - 1s 21ms/step - loss: 0.1234 - accuracy: 0.9610\n",
            "Epoch 30/50\n",
            "54/54 [==============================] - 1s 16ms/step - loss: 0.0887 - accuracy: 0.9703\n",
            "Epoch 31/50\n",
            "54/54 [==============================] - 1s 15ms/step - loss: 0.0710 - accuracy: 0.9756\n",
            "Epoch 32/50\n",
            "54/54 [==============================] - 1s 15ms/step - loss: 0.0640 - accuracy: 0.9756\n",
            "Epoch 33/50\n",
            "54/54 [==============================] - 1s 16ms/step - loss: 0.1083 - accuracy: 0.9639\n",
            "Epoch 34/50\n",
            "54/54 [==============================] - 1s 15ms/step - loss: 0.0652 - accuracy: 0.9796\n",
            "Epoch 35/50\n",
            "54/54 [==============================] - 1s 15ms/step - loss: 0.0980 - accuracy: 0.9674\n",
            "Epoch 36/50\n",
            "54/54 [==============================] - 1s 15ms/step - loss: 0.0722 - accuracy: 0.9761\n",
            "Epoch 37/50\n",
            "54/54 [==============================] - 1s 16ms/step - loss: 0.0744 - accuracy: 0.9761\n",
            "Epoch 38/50\n",
            "54/54 [==============================] - 1s 23ms/step - loss: 0.1190 - accuracy: 0.9622\n",
            "Epoch 39/50\n",
            "54/54 [==============================] - 1s 23ms/step - loss: 0.0609 - accuracy: 0.9773\n",
            "Epoch 40/50\n",
            "54/54 [==============================] - 1s 18ms/step - loss: 0.0973 - accuracy: 0.9587\n",
            "Epoch 41/50\n",
            "54/54 [==============================] - 1s 15ms/step - loss: 0.0899 - accuracy: 0.9686\n",
            "Epoch 42/50\n",
            "54/54 [==============================] - 1s 16ms/step - loss: 0.0869 - accuracy: 0.9680\n",
            "Epoch 43/50\n",
            "54/54 [==============================] - 1s 15ms/step - loss: 0.0850 - accuracy: 0.9680\n",
            "Epoch 44/50\n",
            "54/54 [==============================] - 1s 16ms/step - loss: 0.0829 - accuracy: 0.9726\n",
            "75/75 [==============================] - 1s 4ms/step - loss: 0.1280 - accuracy: 0.9521\n",
            "[0.12797881662845612, 0.9520833492279053]\n",
            "75/75 [==============================] - 0s 4ms/step\n",
            "Classification Report: \n",
            "               precision    recall  f1-score   support\n",
            "\n",
            "           0       0.99      0.96      0.97      2193\n",
            "           1       0.68      0.86      0.75       207\n",
            "\n",
            "    accuracy                           0.95      2400\n",
            "   macro avg       0.83      0.91      0.86      2400\n",
            "weighted avg       0.96      0.95      0.95      2400\n",
            "\n"
          ]
        }
      ],
      "source": [
        "model = ANN(train_dataset, train_labels, test_dataset, test_labels, tf.keras.losses.BinaryCrossentropy(), -1)"
      ]
    },
    {
      "cell_type": "code",
      "execution_count": 23,
      "metadata": {
        "id": "idyH1a2VTkZG"
      },
      "outputs": [],
      "source": [
        "model.save('/content/drive/My Drive/Colab Notebooks/Truncated path validity/truncated_validity_model.h5')"
      ]
    }
  ],
  "metadata": {
    "colab": {
      "provenance": [],
      "mount_file_id": "1qOIMzI8RU_OVMpTZtLpymE7NDhWk7-NN",
      "authorship_tag": "ABX9TyO0yBjaEFkKNSyVCE+CiHwb",
      "include_colab_link": true
    },
    "kernelspec": {
      "display_name": "Python 3",
      "name": "python3"
    }
  },
  "nbformat": 4,
  "nbformat_minor": 0
}